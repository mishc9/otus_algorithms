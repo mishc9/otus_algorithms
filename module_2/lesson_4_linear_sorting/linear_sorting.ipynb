{
 "cells": [
  {
   "cell_type": "markdown",
   "metadata": {},
   "source": [
    "# Содержание\n",
    "<a name=\"index\"></a>\n",
    "1. [Сортировка подсчетом](#counting_sort)\n",
    "  1. [Визуализация](#counting_sort_visual)\n",
    "  2. [Псевдокод сортировки подсчетом](#counting_sort_code)\n",
    "  3. [Модификация](#counting_sort_mod)\n",
    "2. [Поразрядная сортировка](#radix_sort)\n",
    "  1. [Краткое описание](#radix_sort_description)\n",
    "  2. [Историческая справка](#history)\n",
    "  3. [Алгоритм Radix Sort](#radix_sort_code)\n",
    "3. [Quicksort](#quicksort)\n",
    "  1. [Идея](#quciksort_idea)\n",
    "  2. [Особенности алгоритма](#quicksort_features)\n",
    "  3. [Псевдокод](#quicksort_code)\n",
    "  4. [Errata](#errata)\n",
    "4. [Timsort](#timsort)\n",
    "  1. [История](#history)\n",
    "  2. [Алгоритм](#timsort_algorithm)\n",
    "5. [Домашняя работа](#homework)\n"
   ]
  },
  {
   "cell_type": "markdown",
   "metadata": {},
   "source": [
    "# Сортировка подсчетом\n",
    "<a name=\"counting_sort\"></a>\n",
    "\n",
    "<font size=\"4\">\n",
    "    \n",
    "Все сортировки в сегодняшнем занятии предполагают, что входные данные ограничены некотором набором правил. За счет этого получается экономить на количесве сравнений и сортировать данные за $O(n)$, однако в ином случае алгоритимы не применимы.\n",
    "    \n",
    "**Сортировка подсчетом** работает с последовательностями, в которых содержатся целые числа от $0$ до $k$. При этом, если $k = O(n)$ (речь идет о порядке роста), сортировка выполняется за $\\Theta(n) $.\n",
    "\n",
    "- Эта сортировка использует дополнительные массивы: один ($O(n)$) - для записи отсортированных значений, и второй ($O(k)$) - для промежуточных вычислений\n",
    "- таким образом, кроме линейного времени получается и линейная память\n",
    "</font>\n"
   ]
  },
  {
   "cell_type": "markdown",
   "metadata": {},
   "source": [
    "## Визуализация\n",
    "<a name=\"counting_sort_visual\"></a>\n",
    "\n",
    "<font size=\"4\">Начнем с визуализации (пояснения про \"второй\", \"третий\" циклы далее)</font>\n",
    "\n",
    "\n",
    "<img src=\"files/count_sorting_counter.png\"  width=\"700\">\n",
    "\n",
    "\n",
    "<img src=\"files/count_sorting_sorting.png\" width=\"700\">"
   ]
  },
  {
   "cell_type": "markdown",
   "metadata": {},
   "source": [
    "### Все циклы словами\n",
    "\n",
    "<font size=\"4\">\n",
    "\n",
    "<ol>\n",
    "    <li>Первый цикл - инициализация массива - \"счетчика\"</li>\n",
    "    <li>Второй цикл - подсчет количества каждого значения от 1 до $k$</li>\n",
    "    <li>Третий цикл: в вспомогательном массиве сохраняется количество элементов, меньших либо равных значению</li>\n",
    "    <li>Элементы с конца массива на соответсвующие позиции. Т.е. если для $j$-го элемента есть $Counter[элемент]$ элементов ≤ него, он ставится в новый массив на соответсвующее место. Затем отметить, что элемент \"посчитали\" </li>\n",
    "</ol>\n",
    "</font>\n"
   ]
  },
  {
   "cell_type": "markdown",
   "metadata": {},
   "source": [
    "## Псевдокод сортировки подстчетом\n",
    "<a name=\"counting_sort_code\"></a>\n",
    "\n",
    "<font size=\"4\">\n",
    "<pre>\n",
    "1  CountingSort(Array, Sorted, k):  // массив, массив для записи отсортированного, k\n",
    "2      // Примечание: если используется zero indexing, то надо сделать k += 1\n",
    "3      Counter = <b>new</b> array of size <b>k</b>\n",
    "4      <b>for</b> i = 0 <b>to</b> k-1: \n",
    "5         Counter[i] = 0\n",
    "6      <b>for</b> j = 0 <b>to</b> length(Array)-1:\n",
    "7         Counter[Array[j]] = Counter[Array[j]] + 1\n",
    "8      <b>for</b> i = 1 <b>to</b> k-1:\n",
    "9         Counter[i] = Counter[i] + Counter[i-1]\n",
    "10     <b>for</b> j = length(Array)-1 <b>downto</b> 0:\n",
    "11         Counter[Array[j]] = Counter[Array[j]] - 1\n",
    "12         Sorted[Counter[Array[j]]] = Array[j]         \n",
    "</pre>    \n",
    "</size>\n",
    "\n",
    "\n",
    "<font size=\"4\">Заметьте, что мы, фактически, **сжали** информацию о массиве до меньшего массива, а затем использовали ее для **\"распаковки\"**, получив отсортированный массив (при этом отбросив ненужное нам - фактически, данные о положении элементов)</font>"
   ]
  },
  {
   "cell_type": "markdown",
   "metadata": {},
   "source": [
    "## Модификация\n",
    "<a name=\"counting_sort_mod\"></a>\n",
    "\n",
    "<font size=\"4\">\n",
    "Подсчет элементов можно использовать по-разному, например, можно делать записи в тот же массив\n",
    "<pre>\n",
    "\n",
    "1  CounterValue{value, count} - счетчик значений\n",
    "2\n",
    "3\n",
    "4  СountingSort(Array, k): \n",
    "5     k += 1  // из-за zero indexing\n",
    "6     Counter = <b>new</b> array of size <b>k</b>\n",
    "7     <b>for</b> i = 0 <b>to</b> k:\n",
    "8         Counter[i] = CounterValue{i, 0}\n",
    "9     <b>for</b> i = 0 <b>to</b> length(Array) - 1:\n",
    "10        Counter[Array[i]].count += 1\n",
    "11    counter_pointer = 0\n",
    "12    array_pointer = 0\n",
    "13    <b>while</b> <b>True</b>:\n",
    "14        <b>if</b> counter_pointer ≥ k\n",
    "15            <b>break</b>\n",
    "16        <b>if</b> Counter[counter_pointer] == 0:\n",
    "17            counter_pointer += 1\n",
    "18        <b>else</b>:\n",
    "19            Counter[counter_pointer].count -= 1\n",
    "20            Array[array_pointer] = Counter[counter_pointer].value\n",
    "21            array_pointer += 1\n",
    "</pre>\n",
    "\n",
    "- Будет ли такоой алгоритм работать?\n",
    "- Какие у него плюсы и минусы по сравнению с предыдущим вариантом?\n",
    "</size>\n",
    "\n"
   ]
  },
  {
   "attachments": {},
   "cell_type": "markdown",
   "metadata": {},
   "source": [
    "# Поразрядная сортировка\n",
    "<a name=\"radix_sort\"></a>\n",
    "\n",
    "\n",
    "## Краткое описание\n",
    "<a name=\"radix_sort_description\"></a>\n",
    "<font size=\"4\">\n",
    "**Поразрядная сортировка** (или radix sort) может использоваться для сортировки данных, в которых есть разряды, при этом каждый разряд включает в себя только ограниченное количество значений.\n",
    "    \n",
    "Примеры:\n",
    "\n",
    "- Числа в (например, десятичной) системе счисления\n",
    "- IP-адреса\n",
    "- Даты\n",
    "    \n",
    "</font>\n",
    "\n",
    "## Историческая справка\n",
    "<a name=\"history\"></a>\n",
    "\n",
    "<font size=\"4\">\n",
    "Поразрядная сортировка использовалась на машинах с перфокартами.\n",
    "\n",
    "(На изображинии [SEAC](https://en.wikipedia.org/wiki/SEAC_(computer)), 1950 г., а точнее, его часть - устройство ввода перфокарт)\n",
    "\n",
    "<img src=\"https://upload.wikimedia.org/wikipedia/commons/thumb/7/7e/SEACComputer_038.jpg/1280px-SEACComputer_038.jpg\" width=\"720\">\n",
    "\n",
    "Схема (устройство для ввода перфокарт справа вверху, **punched card reader**)\n",
    "\n",
    "<img src=\"https://upload.wikimedia.org/wikipedia/commons/thumb/4/46/SEACComputer_011.jpg/1280px-SEACComputer_011.jpg\" width=\"720\">\n",
    "Это чудо техники использовалось для обработки изображений, моделирования трафика, физических расчетов и метеорологии\n",
    "</font>\n",
    "\n",
    "[в начало](#index)"
   ]
  },
  {
   "cell_type": "markdown",
   "metadata": {},
   "source": [
    "## Алгоритм Radix Sort\n",
    "<a name=\"radix_sort_code\"></a>\n",
    "<font size=\"4\">\n",
    "- Есть несколько вариантов реализации этого алгоритма\n",
    "- Важный вопрос: свойства сортировки для реализации Radix Sort?\n",
    "</font>"
   ]
  },
  {
   "cell_type": "code",
   "execution_count": 56,
   "metadata": {
    "scrolled": true
   },
   "outputs": [
    {
     "data": {
      "text/html": [
       "<iframe width=\"560\" height=\"315\" src=\"https://www.youtube.com/embed/jJH2alRcx4M\" frameborder=\"0\" allow=\"accelerometer; autoplay; encrypted-media; gyroscope; picture-in-picture\" allowfullscreen></iframe>"
      ],
      "text/plain": [
       "<IPython.core.display.HTML object>"
      ]
     },
     "execution_count": 56,
     "metadata": {},
     "output_type": "execute_result"
    }
   ],
   "source": [
    "from IPython.display import HTML\n",
    "\n",
    "# Youtube\n",
    "HTML('<iframe width=\"560\" height=\"315\" src=\"https://www.youtube.com/embed/jJH2alRcx4M\" frameborder=\"0\" allow=\"accelerometer; autoplay; encrypted-media; gyroscope; picture-in-picture\" allowfullscreen></iframe>')"
   ]
  },
  {
   "cell_type": "markdown",
   "metadata": {},
   "source": [
    "### Least Significant Radix Sort\n",
    "<font size=\"4\">\n",
    "<br>\n",
    "    \n",
    "- Данная модификация сортировки начинает ее с младшего разряда и идет к все возрастающим\n",
    "- Алгоритм выглядит так:\n",
    "\n",
    "<pre>\n",
    "1  RadixSort(Array, digits):  // массив, максимальный разряд \n",
    "2      <b>for</b> i = 0 <b>to</b> digits-1:\n",
    "3          StableSort(Array sliced on <b>i</b>)\n",
    "</pre>\n",
    "</font>\n",
    "\n",
    "\n",
    "### Most Significant Radix Sort\n",
    "\n",
    "<font size=\"4\">\n",
    "<br>\n",
    "    \n",
    "- Или так, если сортировать от старших к младшим:\n",
    "\n",
    "<pre>\n",
    "1  RadixSort(Array, digits):  // массив, максимальный разряд \n",
    "2      <b>for</b> i = digits-1 <b>downto</b> 0:\n",
    "3          StableSort(Array sliced on <b>i</b>)\n",
    "</pre>\n",
    "</font>\n",
    "\n",
    "### Разбор корректности алгоритма\n",
    "\n",
    "<font size=\"4\">\n",
    "\n",
    "\n",
    "</font>\n",
    "\n",
    "### Trie-based Radix sort\n",
    "\n",
    "\n",
    "[в начало](#index)"
   ]
  },
  {
   "cell_type": "code",
   "execution_count": null,
   "metadata": {},
   "outputs": [],
   "source": []
  },
  {
   "cell_type": "code",
   "execution_count": null,
   "metadata": {},
   "outputs": [],
   "source": []
  },
  {
   "cell_type": "code",
   "execution_count": null,
   "metadata": {},
   "outputs": [],
   "source": []
  },
  {
   "cell_type": "code",
   "execution_count": null,
   "metadata": {},
   "outputs": [],
   "source": []
  },
  {
   "cell_type": "code",
   "execution_count": null,
   "metadata": {},
   "outputs": [],
   "source": []
  },
  {
   "cell_type": "code",
   "execution_count": null,
   "metadata": {},
   "outputs": [],
   "source": []
  },
  {
   "cell_type": "markdown",
   "metadata": {},
   "source": []
  },
  {
   "cell_type": "code",
   "execution_count": null,
   "metadata": {},
   "outputs": [],
   "source": []
  },
  {
   "cell_type": "code",
   "execution_count": null,
   "metadata": {},
   "outputs": [],
   "source": []
  },
  {
   "cell_type": "code",
   "execution_count": null,
   "metadata": {},
   "outputs": [],
   "source": []
  },
  {
   "cell_type": "code",
   "execution_count": null,
   "metadata": {},
   "outputs": [],
   "source": []
  },
  {
   "cell_type": "code",
   "execution_count": null,
   "metadata": {},
   "outputs": [],
   "source": []
  }
 ],
 "metadata": {
  "kernelspec": {
   "display_name": "Python 3",
   "language": "python",
   "name": "python3"
  },
  "language_info": {
   "codemirror_mode": {
    "name": "ipython",
    "version": 3
   },
   "file_extension": ".py",
   "mimetype": "text/x-python",
   "name": "python",
   "nbconvert_exporter": "python",
   "pygments_lexer": "ipython3",
   "version": "3.6.7"
  }
 },
 "nbformat": 4,
 "nbformat_minor": 2
}
