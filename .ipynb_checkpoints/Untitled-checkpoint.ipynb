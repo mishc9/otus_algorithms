{
 "cells": [
  {
   "cell_type": "markdown",
   "metadata": {},
   "source": [
    "# Cодержание\n",
    "<a name=\"index\"></a>\n",
    "\n",
    "1. [О себе](#me)\n",
    "2. [Поиск элемента в массиве](#list)\n",
    "   1. [Среднее время поиска](#mean)\n",
    "   2. [Адресация в массиве](#addr)\n",
    "3. [Таблица с прямой адресацией](#diraddr)\n",
    "   1. [Представление таблицы с прямой адресацией](#diraddrrepr)\n",
    "   2. [Операции](#diraddrops)\n",
    "   3. [Плюсы](#diraddrpros)\n",
    "   4. [Минусы](#diraddrcons)\n",
    "4. [Хэш-функция](#hashfn)\n",
    "   1. [Общие характеристики](#hashcommon)\n",
    "   2. [Требования](#hashreq)\n",
    "   3. [Примеры функций](#hashexamples)\n",
    "   4. [Больше примеров (ссылка в конце)](#hashfnsmore)\n",
    "5. [Метод цепочек](#chain)\n",
    "   1. [Разрешение коллизий](#chaincoll)\n",
    "   2. [Сложность метода цепочек](#chaindiff)\n",
    "   3. [Еще о сложности в методе цепочек](#chaindiffmore)\n",
    "   4. [Демо работы с таблицей](#chaindemo)\n",
    "   5. [Псевдокод метода цепочек](#chaincode)\n",
    "6. [Открытая адресация](#open)\n",
    "   1. [Основной принцип](#openmain)\n",
    "   2. [Сложности](#opendiff)\n",
    "   3. [Псевдокод операций](#opencode)\n",
    "   4. [Удаление](#opendel)\n",
    "7. [Виды пробинга](#prob)\n",
    "   1. [Линейный пробинг](#problin)\n",
    "   2. [Квадратичный пробинг](#probquad) \n",
    "   3. [Двойное хэширование](#probdoub)\n",
    "8. [В разных языках программирования](#lang)\n",
    "   1. [Python](#langpy)\n",
    "   2. [C++](#langcpp)\n",
    "   3. [Java](#langjava)\n",
    "   4. [C#](#langcs)\n",
    "9. [Ссылки](#links)\n",
    "   1. [Python](#linkspy)\n",
    "   2. [C++](#linkscpp)\n",
    "   3. [Java](#liknsjava)\n",
    "   4. [C#](#linkscs)\n",
    "   5. [Сравнение разных функций](#hashfnsmore)"
   ]
  },
  {
   "cell_type": "markdown",
   "metadata": {},
   "source": []
  },
  {
   "cell_type": "code",
   "execution_count": null,
   "metadata": {},
   "outputs": [],
   "source": []
  },
  {
   "cell_type": "code",
   "execution_count": null,
   "metadata": {},
   "outputs": [],
   "source": []
  },
  {
   "cell_type": "markdown",
   "metadata": {},
   "source": [
    "[в начало](#index)"
   ]
  },
  {
   "cell_type": "code",
   "execution_count": null,
   "metadata": {},
   "outputs": [],
   "source": []
  },
  {
   "cell_type": "code",
   "execution_count": null,
   "metadata": {},
   "outputs": [],
   "source": []
  },
  {
   "cell_type": "code",
   "execution_count": null,
   "metadata": {},
   "outputs": [],
   "source": []
  },
  {
   "cell_type": "code",
   "execution_count": null,
   "metadata": {},
   "outputs": [],
   "source": []
  }
 ],
 "metadata": {
  "kernelspec": {
   "display_name": "Python 3",
   "language": "python",
   "name": "python3"
  }
 },
 "nbformat": 4,
 "nbformat_minor": 2
}
